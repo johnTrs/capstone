{
 "cells": [
  {
   "cell_type": "code",
   "execution_count": 1,
   "metadata": {},
   "outputs": [],
   "source": [
    "import sys\n",
    "sys.path.append('../dataset')\n",
    "import get_funsd\n"
   ]
  },
  {
   "cell_type": "code",
   "execution_count": 2,
   "metadata": {},
   "outputs": [],
   "source": [
    "funsd = get_funsd.CustomFunsdDataset('../dataset/')\n",
    "funsd.split_generators()"
   ]
  },
  {
   "cell_type": "code",
   "execution_count": 3,
   "metadata": {},
   "outputs": [
    {
     "data": {
      "text/plain": [
       "(145, 145, 145, 145)"
      ]
     },
     "execution_count": 3,
     "metadata": {},
     "output_type": "execute_result"
    }
   ],
   "source": [
    "len(funsd['train'][0]['tokens']), len(funsd['train'][0]['line_ids']) , len(funsd['train'][0]['linkings']), len(funsd['train'][0]['ner_tags']),"
   ]
  },
  {
   "cell_type": "code",
   "execution_count": null,
   "metadata": {},
   "outputs": [
    {
     "data": {
      "text/plain": [
       "149"
      ]
     },
     "execution_count": 15,
     "metadata": {},
     "output_type": "execute_result"
    }
   ],
   "source": []
  },
  {
   "cell_type": "code",
   "execution_count": 18,
   "metadata": {},
   "outputs": [],
   "source": [
    "dic = {}\n",
    "\n",
    "for k in range(len(funsd['train'])):\n",
    "    for i in range(len(funsd['train'][k]['linkings'])):\n",
    "        \n",
    "        tag = funsd['train'][k]['ner_tags'][i]\n",
    "        links = funsd['train'][k]['linkings'][i]\n",
    "        token = funsd['train'][k]['tokens'][i]\n",
    "        if links != [] and links != None:\n",
    "            # print(links)\n",
    "            # print(token)\n",
    "            for link in links:\n",
    "                dic[tag] = dic.get(tag, 0) + 1\n",
    "                \n",
    "             \n",
    "    "
   ]
  },
  {
   "cell_type": "code",
   "execution_count": 19,
   "metadata": {},
   "outputs": [
    {
     "data": {
      "text/plain": [
       "{3: 4261, 5: 3057, 4: 5018, 6: 7005, 1: 1030, 2: 1854, 0: 281}"
      ]
     },
     "execution_count": 19,
     "metadata": {},
     "output_type": "execute_result"
    }
   ],
   "source": [
    "dic"
   ]
  }
 ],
 "metadata": {
  "kernelspec": {
   "display_name": "venv",
   "language": "python",
   "name": "python3"
  },
  "language_info": {
   "codemirror_mode": {
    "name": "ipython",
    "version": 3
   },
   "file_extension": ".py",
   "mimetype": "text/x-python",
   "name": "python",
   "nbconvert_exporter": "python",
   "pygments_lexer": "ipython3",
   "version": "3.11.1"
  }
 },
 "nbformat": 4,
 "nbformat_minor": 2
}
